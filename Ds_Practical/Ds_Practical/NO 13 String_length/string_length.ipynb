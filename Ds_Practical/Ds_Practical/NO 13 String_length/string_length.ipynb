{
 "cells": [
  {
   "cell_type": "code",
   "execution_count": 1,
   "id": "7dab151f-d078-42ba-9993-5b91a5449276",
   "metadata": {},
   "outputs": [
    {
     "name": "stdout",
     "output_type": "stream",
     "text": [
      "Enter a string: wqs\n",
      "The length of the string is: 3\n"
     ]
    }
   ],
   "source": [
    "def string_length_recursive(input_str):\n",
    "    # Base case: if the string is empty, its length is 0\n",
    "    if not input_str:\n",
    "        return 0\n",
    "    # Recursive case: reduce the problem by removing the first character\n",
    "    else:\n",
    "        return 1 + string_length_recursive(input_str[1:])\n",
    "\n",
    "# Example usage\n",
    "user_input = input(\"Enter a string: \")\n",
    "length = string_length_recursive(user_input)\n",
    "print(f\"The length of the string is: {length}\")\n"
   ]
  },
  {
   "cell_type": "code",
   "execution_count": null,
   "id": "8515d9c6-2bd0-4f6a-b4e6-029c08833d28",
   "metadata": {},
   "outputs": [],
   "source": []
  }
 ],
 "metadata": {
  "kernelspec": {
   "display_name": "Python 3 (ipykernel)",
   "language": "python",
   "name": "python3"
  },
  "language_info": {
   "codemirror_mode": {
    "name": "ipython",
    "version": 3
   },
   "file_extension": ".py",
   "mimetype": "text/x-python",
   "name": "python",
   "nbconvert_exporter": "python",
   "pygments_lexer": "ipython3",
   "version": "3.11.5"
  }
 },
 "nbformat": 4,
 "nbformat_minor": 5
}
