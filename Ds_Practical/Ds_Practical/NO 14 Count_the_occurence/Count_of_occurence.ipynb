{
 "cells": [
  {
   "cell_type": "code",
   "execution_count": 1,
   "id": "423db147-910f-47d1-9592-cd283fae10d0",
   "metadata": {},
   "outputs": [
    {
     "name": "stdout",
     "output_type": "stream",
     "text": [
      "Enter a string: ada\n",
      "\n",
      "Word occurrences in the string:\n",
      "ada: 1\n"
     ]
    }
   ],
   "source": [
    "def count_word_occurrences_recursive(word_list, word_count={}):\n",
    "    if not word_list:\n",
    "        return word_count\n",
    "\n",
    "    # Convert the word to lowercase to ensure case-insensitive counting\n",
    "    current_word = word_list[0].lower()\n",
    "\n",
    "    # Update the count in the dictionary\n",
    "    word_count[current_word] = word_count.get(current_word, 0) + 1\n",
    "\n",
    "    # Recursive call for the rest of the words\n",
    "    return count_word_occurrences_recursive(word_list[1:], word_count)\n",
    "\n",
    "# Example usage\n",
    "user_string = input(\"Enter a string: \")\n",
    "words = user_string.split(\" \")\n",
    "result = count_word_occurrences_recursive(words)\n",
    "\n",
    "# Display the word occurrences\n",
    "print(\"\\nWord occurrences in the string:\")\n",
    "for word, count in result.items():\n",
    "    print(f\"{word}: {count}\")\n"
   ]
  },
  {
   "cell_type": "code",
   "execution_count": null,
   "id": "7d73ec94-fe50-48d8-9485-bb64d1a4c440",
   "metadata": {},
   "outputs": [],
   "source": []
  }
 ],
 "metadata": {
  "kernelspec": {
   "display_name": "Python 3 (ipykernel)",
   "language": "python",
   "name": "python3"
  },
  "language_info": {
   "codemirror_mode": {
    "name": "ipython",
    "version": 3
   },
   "file_extension": ".py",
   "mimetype": "text/x-python",
   "name": "python",
   "nbconvert_exporter": "python",
   "pygments_lexer": "ipython3",
   "version": "3.11.5"
  }
 },
 "nbformat": 4,
 "nbformat_minor": 5
}
