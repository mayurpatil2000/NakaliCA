{
 "cells": [
  {
   "cell_type": "code",
   "execution_count": 1,
   "id": "8c6c0682-b2ae-4204-ad5a-e3d232ac7549",
   "metadata": {},
   "outputs": [
    {
     "name": "stdout",
     "output_type": "stream",
     "text": [
      "Enter a number: 1\n",
      "1 is a Harshad number.\n"
     ]
    }
   ],
   "source": [
    "def is_harshad_number(number):\n",
    "    # Convert the number to a string to access individual digits\n",
    "    number_str = str(number)\n",
    "    \n",
    "    # Calculate the sum of digits\n",
    "    digit_sum = sum(int(digit) for digit in number_str)\n",
    "    \n",
    "    # Check if the number is divisible by the sum of its digits\n",
    "    return number % digit_sum == 0\n",
    "\n",
    "# Get input from the user\n",
    "user_number = int(input(\"Enter a number: \"))\n",
    "\n",
    "# Check if the number is a Harshad number\n",
    "if is_harshad_number(user_number):\n",
    "    print(f\"{user_number} is a Harshad number.\")\n",
    "else:\n",
    "    print(f\"{user_number} is not a Harshad number.\")\n"
   ]
  },
  {
   "cell_type": "code",
   "execution_count": null,
   "id": "f89ede2c-fc75-4be2-a9fa-f364a9db65f6",
   "metadata": {},
   "outputs": [],
   "source": []
  }
 ],
 "metadata": {
  "kernelspec": {
   "display_name": "Python 3 (ipykernel)",
   "language": "python",
   "name": "python3"
  },
  "language_info": {
   "codemirror_mode": {
    "name": "ipython",
    "version": 3
   },
   "file_extension": ".py",
   "mimetype": "text/x-python",
   "name": "python",
   "nbconvert_exporter": "python",
   "pygments_lexer": "ipython3",
   "version": "3.11.5"
  }
 },
 "nbformat": 4,
 "nbformat_minor": 5
}
