{
 "cells": [
  {
   "cell_type": "code",
   "execution_count": 1,
   "id": "06aabad0-94ae-48f2-b25c-af5d1e96ca3b",
   "metadata": {},
   "outputs": [
    {
     "name": "stdout",
     "output_type": "stream",
     "text": [
      "Enter the x-coordinate: 2\n",
      "Enter the y-coordinate: 1\n",
      "The point (2.0, 1.0) is in Quadrant I.\n"
     ]
    }
   ],
   "source": [
    "# Get input from the user\n",
    "x = float(input(\"Enter the x-coordinate: \"))\n",
    "y = float(input(\"Enter the y-coordinate: \"))\n",
    "\n",
    "# Determine the quadrant\n",
    "if x > 0 and y > 0:\n",
    "    quadrant = \"Quadrant I\"\n",
    "elif x < 0 and y > 0:\n",
    "    quadrant = \"Quadrant II\"\n",
    "elif x < 0 and y < 0:\n",
    "    quadrant = \"Quadrant III\"\n",
    "elif x > 0 and y < 0:\n",
    "    quadrant = \"Quadrant IV\"\n",
    "elif x == 0 and y != 0:\n",
    "    quadrant = \"On the y-axis\"\n",
    "elif x != 0 and y == 0:\n",
    "    quadrant = \"On the x-axis\"\n",
    "else:\n",
    "    quadrant = \"At the origin\"\n",
    "\n",
    "# Print the result\n",
    "print(f\"The point ({x}, {y}) is in {quadrant}.\")\n",
    "\n"
   ]
  },
  {
   "cell_type": "code",
   "execution_count": null,
   "id": "5055f459-6d2a-4fbf-a9eb-d0b3861ee1b1",
   "metadata": {},
   "outputs": [],
   "source": []
  }
 ],
 "metadata": {
  "kernelspec": {
   "display_name": "Python 3 (ipykernel)",
   "language": "python",
   "name": "python3"
  },
  "language_info": {
   "codemirror_mode": {
    "name": "ipython",
    "version": 3
   },
   "file_extension": ".py",
   "mimetype": "text/x-python",
   "name": "python",
   "nbconvert_exporter": "python",
   "pygments_lexer": "ipython3",
   "version": "3.11.5"
  }
 },
 "nbformat": 4,
 "nbformat_minor": 5
}
