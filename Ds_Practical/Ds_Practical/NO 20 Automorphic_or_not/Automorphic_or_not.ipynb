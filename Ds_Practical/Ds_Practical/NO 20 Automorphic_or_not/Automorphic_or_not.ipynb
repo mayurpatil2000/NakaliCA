{
 "cells": [
  {
   "cell_type": "code",
   "execution_count": 1,
   "id": "0eaae7f6-6322-4fdb-9e85-2f7a1a469154",
   "metadata": {},
   "outputs": [
    {
     "name": "stdout",
     "output_type": "stream",
     "text": [
      "Enter a number: 1\n",
      "1 is an Automorphic number.\n"
     ]
    }
   ],
   "source": [
    "def is_automorphic(number):\n",
    "    square = number ** 2\n",
    "    str_number = str(number)\n",
    "    str_square = str(square)\n",
    "\n",
    "    # Check if the square ends with the same digits as the number\n",
    "    return str_square.endswith(str_number)\n",
    "\n",
    "# Get input from the user\n",
    "try:\n",
    "    user_input = int(input(\"Enter a number: \"))\n",
    "except ValueError:\n",
    "    print(\"Please enter a valid integer.\")\n",
    "    exit()\n",
    "\n",
    "# Check if the number is automorphic\n",
    "if is_automorphic(user_input):\n",
    "    print(f\"{user_input} is an Automorphic number.\")\n",
    "else:\n",
    "    print(f\"{user_input} is not an Automorphic number.\")\n"
   ]
  },
  {
   "cell_type": "code",
   "execution_count": null,
   "id": "4c68b54d-bbad-47ef-83e0-e794a7b2a1d4",
   "metadata": {},
   "outputs": [],
   "source": []
  }
 ],
 "metadata": {
  "kernelspec": {
   "display_name": "Python 3 (ipykernel)",
   "language": "python",
   "name": "python3"
  },
  "language_info": {
   "codemirror_mode": {
    "name": "ipython",
    "version": 3
   },
   "file_extension": ".py",
   "mimetype": "text/x-python",
   "name": "python",
   "nbconvert_exporter": "python",
   "pygments_lexer": "ipython3",
   "version": "3.11.5"
  }
 },
 "nbformat": 4,
 "nbformat_minor": 5
}
